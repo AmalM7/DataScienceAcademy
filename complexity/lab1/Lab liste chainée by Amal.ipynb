{
 "cells": [
  {
   "cell_type": "markdown",
   "metadata": {},
   "source": [
    "## Def d'une cellule"
   ]
  },
  {
   "cell_type": "code",
   "execution_count": 4,
   "metadata": {},
   "outputs": [],
   "source": [
    "def generer_cellule(e):\n",
    "    cellule={'valeur': e, 'suivant': None }\n",
    "    return cellule"
   ]
  },
  {
   "cell_type": "code",
   "execution_count": 5,
   "metadata": {},
   "outputs": [
    {
     "data": {
      "text/plain": [
       "{'suivant': {'suivant': {'suivant': {'suivant': None, 'valeur': 32},\n",
       "   'valeur': 16},\n",
       "  'valeur': 8},\n",
       " 'valeur': 4}"
      ]
     },
     "execution_count": 5,
     "metadata": {},
     "output_type": "execute_result"
    }
   ],
   "source": [
    "cel1=generer_cellule(4)\n",
    "cel2=generer_cellule(8)\n",
    "cel3=generer_cellule(16)\n",
    "cel4=generer_cellule(32)\n",
    "cel1['suivant']=cel2\n",
    "cel2['suivant']=cel3\n",
    "cel3['suivant']=cel4\n",
    "liste_chainee= cel1\n",
    "liste_chainee"
   ]
  },
  {
   "cell_type": "code",
   "execution_count": 3,
   "metadata": {},
   "outputs": [
    {
     "data": {
      "text/plain": [
       "{'suivant': {'suivant': {'suivant': {'suivant': None, 'valeur': 32},\n",
       "   'valeur': 16},\n",
       "  'valeur': 8},\n",
       " 'valeur': 4}"
      ]
     },
     "execution_count": 3,
     "metadata": {},
     "output_type": "execute_result"
    }
   ],
   "source": [
    "cel1=generer_cellule(4)\n",
    "cel2=generer_cellule(8)\n",
    "cel3=generer_cellule(16)\n",
    "cel4=generer_cellule(32)\n",
    "cel1['suivant']=cel2\n",
    "cel2['suivant']=cel3\n",
    "cel3['suivant']=cel4\n",
    "list_chain=cel1\n",
    "list_chain"
   ]
  },
  {
   "cell_type": "code",
   "execution_count": 6,
   "metadata": {},
   "outputs": [],
   "source": []
  },
  {
   "cell_type": "code",
   "execution_count": null,
   "metadata": {},
   "outputs": [],
   "source": []
  },
  {
   "cell_type": "code",
   "execution_count": null,
   "metadata": {},
   "outputs": [],
   "source": []
  }
 ],
 "metadata": {
  "kernelspec": {
   "display_name": "Python 3",
   "language": "python",
   "name": "python3"
  },
  "language_info": {
   "codemirror_mode": {
    "name": "ipython",
    "version": 3
   },
   "file_extension": ".py",
   "mimetype": "text/x-python",
   "name": "python",
   "nbconvert_exporter": "python",
   "pygments_lexer": "ipython3",
   "version": "3.6.5"
  }
 },
 "nbformat": 4,
 "nbformat_minor": 2
}
