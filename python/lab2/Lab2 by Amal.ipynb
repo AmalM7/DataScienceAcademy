{
 "cells": [
  {
   "cell_type": "code",
   "execution_count": 1,
   "metadata": {},
   "outputs": [],
   "source": [
    "import math"
   ]
  },
  {
   "cell_type": "code",
   "execution_count": 2,
   "metadata": {},
   "outputs": [],
   "source": [
    "class Point:\n",
    "    def __init__(self,x,y):\n",
    "        self.x=x\n",
    "        self.y=y\n",
    "    def opposite(self):\n",
    "        self.x=-x\n",
    "        self.y=-y\n",
    "        return self"
   ]
  },
  {
   "cell_type": "code",
   "execution_count": 3,
   "metadata": {},
   "outputs": [
    {
     "name": "stdout",
     "output_type": "stream",
     "text": [
      "-7\n",
      "-8\n"
     ]
    }
   ],
   "source": [
    "x,y=7,8\n",
    "p=Point(x,y)\n",
    "p.opposite()\n",
    "print(p.x)\n",
    "print(p.y)"
   ]
  },
  {
   "cell_type": "code",
   "execution_count": 15,
   "metadata": {},
   "outputs": [],
   "source": [
    "class Point:\n",
    "    def __init__(self,x,y):\n",
    "        self.x=x\n",
    "        self.y=y\n",
    "    def opposite(self):\n",
    "        self.x=-x\n",
    "        self.y=-y\n",
    "        return self\n",
    "    def add(self,point):\n",
    "        x_new=self.x+point.x\n",
    "        y_new=self.y+point.y\n",
    "        return Point(x_new, y_new)\n",
    "    def distance(self, point):\n",
    "        return math.sqrt(((self.x-point.x)**2)+((self.y-point.y)**2))"
   ]
  },
  {
   "cell_type": "code",
   "execution_count": 16,
   "metadata": {},
   "outputs": [
    {
     "name": "stdout",
     "output_type": "stream",
     "text": [
      "4\n",
      "4\n",
      "2.0\n"
     ]
    }
   ],
   "source": [
    "P1=Point(1,2)\n",
    "P2=Point(3,2)\n",
    "P3= P1.add(P2)\n",
    "print(P3.x)\n",
    "print(P3.y)\n",
    "print(P2.distance(P1))"
   ]
  },
  {
   "cell_type": "code",
   "execution_count": null,
   "metadata": {},
   "outputs": [],
   "source": []
  }
 ],
 "metadata": {
  "kernelspec": {
   "display_name": "Python 3",
   "language": "python",
   "name": "python3"
  },
  "language_info": {
   "codemirror_mode": {
    "name": "ipython",
    "version": 3
   },
   "file_extension": ".py",
   "mimetype": "text/x-python",
   "name": "python",
   "nbconvert_exporter": "python",
   "pygments_lexer": "ipython3",
   "version": "3.6.4"
  }
 },
 "nbformat": 4,
 "nbformat_minor": 2
}
